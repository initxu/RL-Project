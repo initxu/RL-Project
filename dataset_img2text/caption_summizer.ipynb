{
 "cells": [
  {
   "cell_type": "code",
   "execution_count": null,
   "metadata": {},
   "outputs": [],
   "source": [
    "import json\n",
    "from openai import OpenAI"
   ]
  },
  {
   "cell_type": "code",
   "execution_count": null,
   "metadata": {},
   "outputs": [],
   "source": [
    "client = OpenAI(api_key=' ')\n",
    "model = \"gpt-4o\""
   ]
  },
  {
   "cell_type": "code",
   "execution_count": null,
   "metadata": {},
   "outputs": [
    {
     "data": {
      "text/plain": [
       "'You are an expert in video content analysis. You have been provided with a time-ordered sequence of brief captions, each describing a single frame of a video. Your task is to synthesize these frame-level descriptions into a cohesive, concise summary of the video. Ensure your summary is comprehensive yet succinct, reflecting the main storyline or purpose of the video without redundant details.\\nThe sequence of captions: {captions}'"
      ]
     },
     "execution_count": 7,
     "metadata": {},
     "output_type": "execute_result"
    }
   ],
   "source": [
    "summarize_prompt='''You are an expert in video content analysis. You have been provided with a time-ordered sequence of brief captions, each describing a single frame of a video. Your task is to synthesize these frame-level descriptions into a cohesive, concise summary of the video. Ensure your summary is comprehensive yet succinct, reflecting the main storyline or purpose of the video without redundant details.\n",
    "The sequence of captions: {captions}'''\n",
    "summarize_prompt"
   ]
  },
  {
   "cell_type": "code",
   "execution_count": 4,
   "metadata": {},
   "outputs": [],
   "source": [
    "summe_video_name_ls=['Air_Force_One', 'Excavators_river_crossing', 'Fire_Domino', 'Jumps', 'Kids_playing_in_leaves', 'Notre_Dame', 'Paintball', 'Playing_on_water_slide', 'Saving_dolphines', 'Scuba', 'St_Maarten_Landing', 'Base_jumping', 'Statue_of_Liberty', 'Uncut_Evening_Flight', 'Valparaiso_Downhill', 'car_over_camera', 'paluma_jump', 'playing_ball', 'Bearpark_climbing', 'Bike_Polo', 'Bus_in_Rock_Tunnel', 'Car_railcrossing', 'Cockpit_Landing', 'Cooking', 'Eiffel_Tower']\n",
    "tvsum_video_name_ls=['AwmHb44_ouw','akI8YFjEmUw','i3wAGJaaktw','Bhxk-O1Y7Ho','0tmA_C6XwfM','3eYKfiOEJNs','xxdtq8mxegs','WG0MBPpPC6I','Hl-__g2gn_A','Yi4Ij2NM7U4','37rzWOQsNIw','98MoyGZKHXc','LRw_obCPUt0','cjibtmSLxQ4','b626MiF1ew4','XkqCExn6_Us','GsAD1KT1xo8','PJrm840pAUI','91IHQYk1IQM','RBCABdttQmI','z_6gVvQb2d0','fWutDQy1nnY','J0nA4VgnoCo','4wU_LUjG5Ic','VuWGsYPqAX8','JKpqYvAdIsw','xmEERLqJ2kU','byxOvuiIJV0','_xMr-HKMfVA','WxtbjNsCQ8A','uGu_10sucQo','EE-bNr36nyA','Se3oxnaPsz0','gzDbaEs1Rlg','oDXZc0tZe04','qqR6AEXwxoQ','EYqVtI9YWJA','eQu1rNs0an0','JgHubY5Vw3Y','iVt07TCkFM0','E11zDS9XGzg','NyBmCxDoHJU','kLxoNp-UchI','jcoYJXDG9sw','XzYM3PfTM4w','-esJrBWj2d8','HT5vyqe0Xaw','sTEELN-vY30','vdmoEJ5YbrQ','xwqBXPGE9pQ']\n"
   ]
  },
  {
   "cell_type": "code",
   "execution_count": null,
   "metadata": {},
   "outputs": [
    {
     "name": "stdout",
     "output_type": "stream",
     "text": [
      "10776\n",
      "14454\n",
      "3737\n",
      "1854\n",
      "4452\n",
      "8658\n",
      "17670\n",
      "4561\n",
      "8133\n",
      "3817\n",
      "5131\n",
      "7264\n",
      "5203\n",
      "14636\n",
      "12223\n",
      "14400\n",
      "4234\n",
      "4496\n",
      "5486\n",
      "6047\n",
      "7868\n",
      "8869\n",
      "14426\n",
      "2459\n",
      "9364\n"
     ]
    }
   ],
   "source": [
    "\n",
    "caption_file_pth='./summe/llava-v1.6-mistral-7b-hf/v1/{}.json'\n",
    "summary_file_pth='./summe/llava-v1.6-mistral-7b-hf/v1_summary/{}.json'\n",
    "\n",
    "for video_name in summe_video_name_ls:\n",
    "    results=[]\n",
    "    with open(caption_file_pth.format(video_name), 'r') as file:\n",
    "        caption_data = json.load(file)\n",
    "        img_captions = [entry[\"img_caption\"] for entry in caption_data]\n",
    "        input_context=summarize_prompt.format(captions=img_captions)\n",
    "        print(len(input_context))\n",
    "    \n",
    "    completion = client.chat.completions.create(\n",
    "        model=model,\n",
    "        messages=[\n",
    "            {\"role\": \"user\", \"content\": input_context}\n",
    "        ],\n",
    "        temperature = 0.7,\n",
    "        \n",
    "        )\n",
    "    output_text=completion.choices[0].message.content\n",
    "    \n",
    "    results.append({\n",
    "            'prompt':input_context,\n",
    "            'caption_summary':output_text\n",
    "        })\n",
    "    with open(summary_file_pth.format(video_name), 'w') as f:\n",
    "        json.dump(results, f, indent=4, ensure_ascii=False,)"
   ]
  },
  {
   "cell_type": "code",
   "execution_count": null,
   "metadata": {},
   "outputs": [
    {
     "name": "stdout",
     "output_type": "stream",
     "text": [
      "20814\n",
      "10778\n",
      "10676\n",
      "20035\n",
      "4824\n",
      "9903\n",
      "10556\n",
      "16411\n",
      "11922\n",
      "15750\n",
      "10100\n",
      "7618\n",
      "11038\n",
      "29564\n",
      "9561\n",
      "7791\n",
      "5658\n",
      "11136\n",
      "6634\n",
      "16757\n",
      "18244\n",
      "24259\n",
      "23061\n",
      "8047\n",
      "13695\n",
      "8559\n",
      "20806\n",
      "7544\n",
      "9170\n",
      "14993\n",
      "6908\n",
      "7280\n",
      "8609\n",
      "13469\n",
      "15162\n",
      "24114\n",
      "13976\n",
      "9393\n",
      "4768\n",
      "4801\n",
      "26898\n",
      "7276\n",
      "5599\n",
      "13292\n",
      "6077\n",
      "9154\n",
      "12935\n",
      "7865\n",
      "16040\n",
      "15387\n"
     ]
    }
   ],
   "source": [
    "\n",
    "caption_file_pth='./tvsum/llava-v1.6-mistral-7b-hf/v1/{}.json'\n",
    "summary_file_pth='./tvsum/llava-v1.6-mistral-7b-hf/v1_summary/{}.json'\n",
    "\n",
    "for video_name in tvsum_video_name_ls:\n",
    "    results=[]\n",
    "    with open(caption_file_pth.format(video_name), 'r') as file:\n",
    "        caption_data = json.load(file)\n",
    "        img_captions = [entry[\"img_caption\"] for entry in caption_data]\n",
    "        input_context=summarize_prompt.format(captions=img_captions)\n",
    "        print(len(input_context))\n",
    "    \n",
    "    completion = client.chat.completions.create(\n",
    "        model=model,\n",
    "        messages=[\n",
    "            {\"role\": \"user\", \"content\": input_context}\n",
    "        ],\n",
    "        temperature = 0.7,\n",
    "        \n",
    "        )\n",
    "    output_text=completion.choices[0].message.content\n",
    "    \n",
    "    results.append({\n",
    "            'prompt':input_context,\n",
    "            'caption_summary':output_text\n",
    "        })\n",
    "    with open(summary_file_pth.format(video_name), 'w') as f:\n",
    "        json.dump(results, f, indent=4, ensure_ascii=False,)"
   ]
  }
 ],
 "metadata": {
  "kernelspec": {
   "display_name": "aidoctor",
   "language": "python",
   "name": "python3"
  },
  "language_info": {
   "codemirror_mode": {
    "name": "ipython",
    "version": 3
   },
   "file_extension": ".py",
   "mimetype": "text/x-python",
   "name": "python",
   "nbconvert_exporter": "python",
   "pygments_lexer": "ipython3",
   "version": "3.9.19"
  }
 },
 "nbformat": 4,
 "nbformat_minor": 2
}
